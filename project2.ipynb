{
 "cells": [
  {
   "cell_type": "code",
   "id": "initial_id",
   "metadata": {
    "collapsed": true,
    "ExecuteTime": {
     "end_time": "2025-04-12T09:25:09.628358Z",
     "start_time": "2025-04-12T09:25:09.612288Z"
    }
   },
   "source": [
    "import os\n",
    "import pandas as pd\n",
    "import torch\n",
    "from transformers import AutoTokenizer, TrainingArguments, Trainer, DataCollatorWithPadding, AutoModelForSequenceClassification\n",
    "from peft import LoraConfig, get_peft_model, PeftModel\n",
    "from datasets import load_dataset, Dataset, ClassLabel\n",
    "from sklearn.metrics import accuracy_score\n",
    "import pickle"
   ],
   "outputs": [],
   "execution_count": 21
  },
  {
   "metadata": {
    "ExecuteTime": {
     "end_time": "2025-04-12T18:35:53.218733Z",
     "start_time": "2025-04-12T18:35:52.352407Z"
    }
   },
   "cell_type": "code",
   "source": [
    "#use GPU if possible\n",
    "device = torch.device(\"cuda\" if torch.cuda.is_available() else \"cpu\")\n",
    "print(f\"Using device: {device}\")\n",
    "\n",
    "# Load Tokenizer and Preprocess Data\n",
    "dataset = load_dataset(\n",
    "    \"parquet\",\n",
    "    data_files={\n",
    "        \"train\": r\"C:\\Users\\ymjr1\\Desktop\\Python course\\ag_news\\train-ag.parquet\",\n",
    "        \"test\": r\"C:\\Users\\ymjr1\\Desktop\\Python course\\ag_news\\test-ag.parquet\"\n",
    "    }\n",
    ")\n",
    "\n",
    "tokenizer = AutoTokenizer.from_pretrained(r\"C:\\Users\\ymjr1\\Desktop\\Python course\\roberta-base\")\n",
    "\n",
    "def preprocess(examples):\n",
    "    tokenized = tokenizer(examples['text'], truncation=True, padding=\"max_length\", max_length=128)\n",
    "    return tokenized\n",
    "tokenized_dataset = dataset.map(preprocess, batched=True,  remove_columns=[\"text\"])\n",
    "#Tokenizer\n",
    "tokenized_dataset = tokenized_dataset.rename_column(\"label\", \"labels\")\n",
    "tokenized_dataset.set_format(\"torch\", columns=[\"input_ids\", \"attention_mask\", \"labels\"])"
   ],
   "id": "bafe539cab85e524",
   "outputs": [
    {
     "name": "stdout",
     "output_type": "stream",
     "text": [
      "Using device: cpu\n"
     ]
    }
   ],
   "execution_count": 67
  },
  {
   "metadata": {
    "ExecuteTime": {
     "end_time": "2025-04-12T18:35:55.121203Z",
     "start_time": "2025-04-12T18:35:55.105120Z"
    }
   },
   "cell_type": "code",
   "source": [
    "#the number of classess and names\n",
    "num_labels = dataset[\"train\"].features[\"label\"].num_classes\n",
    "class_names = dataset[\"train\"].features[\"label\"].names"
   ],
   "id": "bc2e211bcf5c4ae8",
   "outputs": [],
   "execution_count": 68
  },
  {
   "metadata": {
    "ExecuteTime": {
     "end_time": "2025-04-12T18:35:56.461816Z",
     "start_time": "2025-04-12T18:35:56.374864Z"
    }
   },
   "cell_type": "code",
   "source": [
    "#load pre_trained model\n",
    "model = AutoModelForSequenceClassification.from_pretrained(\n",
    "    r\"C:\\Users\\ymjr1\\Desktop\\Python course\\roberta-base\",\n",
    "    num_labels=num_labels\n",
    ")"
   ],
   "id": "cfa0c8c8adadf610",
   "outputs": [
    {
     "name": "stderr",
     "output_type": "stream",
     "text": [
      "Some weights of RobertaForSequenceClassification were not initialized from the model checkpoint at C:\\Users\\ymjr1\\Desktop\\Python course\\roberta-base and are newly initialized: ['classifier.dense.bias', 'classifier.dense.weight', 'classifier.out_proj.bias', 'classifier.out_proj.weight']\n",
      "You should probably TRAIN this model on a down-stream task to be able to use it for predictions and inference.\n"
     ]
    }
   ],
   "execution_count": 69
  },
  {
   "metadata": {
    "ExecuteTime": {
     "end_time": "2025-04-12T18:35:58.111954Z",
     "start_time": "2025-04-12T18:35:58.071703Z"
    }
   },
   "cell_type": "code",
   "source": [
    "# PEFT Config\n",
    "lora_config = LoraConfig(\n",
    "    r=8,\n",
    "    lora_alpha=16,\n",
    "    lora_dropout=0.1,\n",
    "    bias = 'none',\n",
    "    target_modules = ['query', 'value'],\n",
    "    task_type=\"SEQ_CLS\",\n",
    ")\n",
    "model = get_peft_model(model, lora_config)\n",
    "model.print_trainable_parameters()"
   ],
   "id": "79b3de1f795c3b00",
   "outputs": [
    {
     "name": "stdout",
     "output_type": "stream",
     "text": [
      "trainable params: 888,580 || all params: 125,537,288 || trainable%: 0.7078\n"
     ]
    }
   ],
   "execution_count": 70
  },
  {
   "metadata": {
    "ExecuteTime": {
     "end_time": "2025-04-12T18:36:00.381769Z",
     "start_time": "2025-04-12T18:36:00.370404Z"
    }
   },
   "cell_type": "code",
   "source": [
    "#evaluation accuracy\n",
    "def compute_metrics(pred):\n",
    "    labels = pred.label_ids\n",
    "    preds = pred.predictions.argmax(-1)\n",
    "    # Calculate accuracy\n",
    "    accuracy = accuracy_score(labels, preds)\n",
    "    return {'accuracy': accuracy}"
   ],
   "id": "f304e27dc92275fc",
   "outputs": [],
   "execution_count": 71
  },
  {
   "metadata": {
    "ExecuteTime": {
     "end_time": "2025-04-12T18:36:03.025874Z",
     "start_time": "2025-04-12T18:36:03.010221Z"
    }
   },
   "cell_type": "code",
   "source": [
    "#training args\n",
    "training_args = TrainingArguments(\n",
    "    output_dir=\"./results\",\n",
    "    eval_strategy=\"epoch\",\n",
    "    save_strategy=\"epoch\",\n",
    "    learning_rate=2e-4,\n",
    "    optim=\"adamw_torch\",\n",
    "    per_device_train_batch_size=16,\n",
    "    per_device_eval_batch_size=64,\n",
    "    weight_decay=0.01,\n",
    "    logging_dir=\"./logs\"\n",
    ")"
   ],
   "id": "a2d5f6082d227424",
   "outputs": [],
   "execution_count": 72
  },
  {
   "metadata": {
    "ExecuteTime": {
     "end_time": "2025-04-13T23:12:45.886046Z",
     "start_time": "2025-04-13T08:41:26.778193Z"
    }
   },
   "cell_type": "code",
   "source": [
    "#train model\n",
    "trainer = Trainer(\n",
    "    model=model,\n",
    "    args=training_args,\n",
    "    train_dataset=tokenized_dataset[\"train\"],\n",
    "    eval_dataset=tokenized_dataset[\"test\"],\n",
    "    tokenizer=tokenizer,\n",
    "    compute_metrics=compute_metrics\n",
    ")\n",
    "\n",
    "trainer.train()"
   ],
   "id": "29299030bde60d7f",
   "outputs": [
    {
     "name": "stderr",
     "output_type": "stream",
     "text": [
      "C:\\Users\\ymjr1\\AppData\\Local\\Temp\\ipykernel_8328\\2303756292.py:2: FutureWarning: `tokenizer` is deprecated and will be removed in version 5.0.0 for `Trainer.__init__`. Use `processing_class` instead.\n",
      "  trainer = Trainer(\n",
      "No label_names provided for model class `PeftModelForSequenceClassification`. Since `PeftModel` hides base models input arguments, if label_names is not given, label_names can't be set automatically within `Trainer`. Note that empty label_names list will be used instead.\n"
     ]
    },
    {
     "data": {
      "text/plain": [
       "<IPython.core.display.HTML object>"
      ],
      "text/html": [
       "\n",
       "    <div>\n",
       "      \n",
       "      <progress value='22500' max='22500' style='width:300px; height:20px; vertical-align: middle;'></progress>\n",
       "      [22500/22500 14:31:12, Epoch 3/3]\n",
       "    </div>\n",
       "    <table border=\"1\" class=\"dataframe\">\n",
       "  <thead>\n",
       " <tr style=\"text-align: left;\">\n",
       "      <th>Epoch</th>\n",
       "      <th>Training Loss</th>\n",
       "      <th>Validation Loss</th>\n",
       "      <th>Accuracy</th>\n",
       "    </tr>\n",
       "  </thead>\n",
       "  <tbody>\n",
       "    <tr>\n",
       "      <td>1</td>\n",
       "      <td>0.169700</td>\n",
       "      <td>0.182493</td>\n",
       "      <td>0.945000</td>\n",
       "    </tr>\n",
       "    <tr>\n",
       "      <td>2</td>\n",
       "      <td>0.153600</td>\n",
       "      <td>0.180086</td>\n",
       "      <td>0.947368</td>\n",
       "    </tr>\n",
       "    <tr>\n",
       "      <td>3</td>\n",
       "      <td>0.132000</td>\n",
       "      <td>0.179550</td>\n",
       "      <td>0.948816</td>\n",
       "    </tr>\n",
       "  </tbody>\n",
       "</table><p>"
      ]
     },
     "metadata": {},
     "output_type": "display_data"
    },
    {
     "data": {
      "text/plain": [
       "TrainOutput(global_step=22500, training_loss=0.15077081231011286, metrics={'train_runtime': 52277.2384, 'train_samples_per_second': 6.886, 'train_steps_per_second': 0.43, 'total_flos': 2.392609480704e+16, 'train_loss': 0.15077081231011286, 'epoch': 3.0})"
      ]
     },
     "execution_count": 80,
     "metadata": {},
     "output_type": "execute_result"
    }
   ],
   "execution_count": 80
  },
  {
   "metadata": {
    "ExecuteTime": {
     "end_time": "2025-04-14T03:00:06.514198Z",
     "start_time": "2025-04-14T03:00:05.798569Z"
    }
   },
   "cell_type": "code",
   "source": [
    "#load test data\n",
    "unlabelled_dataset = pd.read_pickle(\"C:\\\\Users\\\\ymjr1\\\\Desktop\\\\Python course\\\\ag_news\\\\test_unlabelled.pkl\")\n",
    "test_dataset = unlabelled_dataset.map(preprocess, batched=True, remove_columns=[\"text\"])\n",
    "unlabelled_dataset"
   ],
   "id": "fe0302b2beff8960",
   "outputs": [
    {
     "data": {
      "text/plain": [
       "Map:   0%|          | 0/8000 [00:00<?, ? examples/s]"
      ],
      "application/vnd.jupyter.widget-view+json": {
       "version_major": 2,
       "version_minor": 0,
       "model_id": "554ca0db8e70479091a892ea20c2accf"
      }
     },
     "metadata": {},
     "output_type": "display_data"
    },
    {
     "data": {
      "text/plain": [
       "Dataset({\n",
       "    features: ['text'],\n",
       "    num_rows: 8000\n",
       "})"
      ]
     },
     "execution_count": 82,
     "metadata": {},
     "output_type": "execute_result"
    }
   ],
   "execution_count": 82
  },
  {
   "metadata": {
    "ExecuteTime": {
     "end_time": "2025-04-14T03:24:53.535750Z",
     "start_time": "2025-04-14T03:24:53.513619Z"
    }
   },
   "cell_type": "code",
   "source": [
    "#Tokenizer\n",
    "from torch.utils.data import DataLoader\n",
    "test_dataset.set_format(type=\"torch\", columns=[\"input_ids\", \"attention_mask\"])\n",
    "test_dataloader = DataLoader(test_dataset, batch_size=64)"
   ],
   "id": "ab79208505364de3",
   "outputs": [],
   "execution_count": 86
  },
  {
   "metadata": {
    "ExecuteTime": {
     "end_time": "2025-04-14T05:57:43.997956Z",
     "start_time": "2025-04-14T05:50:34.238425Z"
    }
   },
   "cell_type": "code",
   "source": [
    "#prediction and save\n",
    "import numpy as np\n",
    "model.eval()\n",
    "preds = [ ]\n",
    "for batch in test_dataloader:\n",
    "        # Move each tensor in the batch to the device\n",
    "        batch = {k: v.to(device) for k, v in batch.items()}\n",
    "        with torch.no_grad():\n",
    "            outputs = model(**batch)\n",
    "        predictions = outputs.logits.argmax(dim=-1)\n",
    "        preds.append(predictions.cpu())\n",
    "\n",
    "preds_np = torch.cat(preds).numpy()\n",
    "df_output = pd.DataFrame({\n",
    "    'ID': list(range(len(preds_np))),\n",
    "    'Label': preds_np\n",
    "})\n",
    "df_output.to_csv(\"output.csv\", index=False)\n"
   ],
   "id": "849f8e2c979f7648",
   "outputs": [],
   "execution_count": 95
  }
 ],
 "metadata": {
  "kernelspec": {
   "display_name": "Python 3",
   "language": "python",
   "name": "python3"
  },
  "language_info": {
   "codemirror_mode": {
    "name": "ipython",
    "version": 2
   },
   "file_extension": ".py",
   "mimetype": "text/x-python",
   "name": "python",
   "nbconvert_exporter": "python",
   "pygments_lexer": "ipython2",
   "version": "2.7.6"
  }
 },
 "nbformat": 4,
 "nbformat_minor": 5
}
